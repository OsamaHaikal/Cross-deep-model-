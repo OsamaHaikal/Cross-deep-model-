{
  "metadata": {
    "kernelspec": {
      "language": "python",
      "display_name": "Python 3",
      "name": "python3"
    },
    "language_info": {
      "pygments_lexer": "ipython3",
      "nbconvert_exporter": "python",
      "version": "3.6.4",
      "file_extension": ".py",
      "codemirror_mode": {
        "name": "ipython",
        "version": 3
      },
      "name": "python",
      "mimetype": "text/x-python"
    },
    "colab": {
      "name": "deepleaeningcompetition (1).ipynb",
      "provenance": [],
      "collapsed_sections": [],
      "include_colab_link": true
    }
  },
  "nbformat_minor": 0,
  "nbformat": 4,
  "cells": [
    {
      "cell_type": "markdown",
      "metadata": {
        "id": "view-in-github",
        "colab_type": "text"
      },
      "source": [
        "<a href=\"https://colab.research.google.com/github/OsamaHaikal/Cross-deep-model-/blob/master/deepleaeningcompetition_(1).ipynb\" target=\"_parent\"><img src=\"https://colab.research.google.com/assets/colab-badge.svg\" alt=\"Open In Colab\"/></a>"
      ]
    },
    {
      "cell_type": "code",
      "source": [
        "from google.colab import drive\n",
        "drive.mount('/content/drive')"
      ],
      "metadata": {
        "colab": {
          "base_uri": "https://localhost:8080/"
        },
        "id": "MLagMDX3JfYf",
        "outputId": "a22e3020-6fcc-4500-d633-d5d989ce86c8"
      },
      "execution_count": null,
      "outputs": [
        {
          "output_type": "stream",
          "name": "stdout",
          "text": [
            "Drive already mounted at /content/drive; to attempt to forcibly remount, call drive.mount(\"/content/drive\", force_remount=True).\n"
          ]
        }
      ]
    },
    {
      "cell_type": "code",
      "source": [
        "import pandas as pd\n",
        "from sklearn.preprocessing import OneHotEncoder\n",
        "from sklearn.preprocessing import OrdinalEncoder,LabelEncoder\n",
        "from sklearn.impute import SimpleImputer\n",
        "from sklearn.base import BaseEstimator\n",
        "from sklearn.base import TransformerMixin\n",
        "from sklearn.compose import ColumnTransformer\n",
        "from sklearn.pipeline import Pipeline\n",
        "import math\n",
        "from sklearn.linear_model import LogisticRegression\n",
        "from sklearn.model_selection import GridSearchCV\n",
        "from sklearn.tree import DecisionTreeClassifier\n",
        "from sklearn.model_selection import train_test_split\n",
        "from sklearn.metrics import roc_auc_score, accuracy_score\n",
        "from sklearn.ensemble import RandomForestClassifier\n",
        "import xgboost\n",
        "from lightgbm import LGBMClassifier\n",
        "from keras.models import Sequential\n",
        "import tensorflow as tf\n",
        "from tensorflow import keras\n",
        "from keras.layers import Dense, InputLayer\n",
        "from tensorflow.keras.layers import StringLookup, IntegerLookup\n",
        "from keras.wrappers.scikit_learn import KerasClassifier\n",
        "from xgboost import XGBClassifier\n",
        "import numpy as np\n",
        "from sklearn.model_selection import train_test_split\n",
        "from sklearn.ensemble import VotingClassifier\n",
        "from tensorflow.keras.callbacks import EarlyStopping\n",
        "import string\n",
        "from tensorflow.estimator import DNNClassifier"
      ],
      "metadata": {
        "id": "wGRF_uvV9GdQ",
        "execution": {
          "iopub.status.busy": "2022-05-06T12:31:30.023922Z",
          "iopub.execute_input": "2022-05-06T12:31:30.024765Z",
          "iopub.status.idle": "2022-05-06T12:31:30.039794Z",
          "shell.execute_reply.started": "2022-05-06T12:31:30.02472Z",
          "shell.execute_reply": "2022-05-06T12:31:30.038726Z"
        },
        "trusted": true
      },
      "execution_count": null,
      "outputs": []
    },
    {
      "cell_type": "code",
      "source": [
        "dtypes = {\n",
        "    'id' : 'float32',\n",
        "    'bin_0' :'float32',    \n",
        "    'bin_1' :'float32',    \n",
        "    'bin_2': 'float32', \n",
        "    'ord_0': 'float32',\n",
        "    'day': 'float32',\n",
        "    'month': 'float32',\n",
        "    'target': 'float32',\n",
        "}"
      ],
      "metadata": {
        "id": "JNWSnrwhtPKZ"
      },
      "execution_count": null,
      "outputs": []
    },
    {
      "cell_type": "code",
      "source": [
        "num_cols = ['id',\n",
        "'bin_0',\n",
        "'bin_1',\n",
        "'bin_2',\n",
        "'day',\n",
        "'ord_0',\n",
        "'month',\n",
        "'target',\n",
        "]\n"
      ],
      "metadata": {
        "id": "z85yt4C5JGcZ"
      },
      "execution_count": null,
      "outputs": []
    },
    {
      "cell_type": "code",
      "source": [
        ""
      ],
      "metadata": {
        "id": "KJ6_cHOITPW3"
      },
      "execution_count": null,
      "outputs": []
    },
    {
      "cell_type": "code",
      "source": [
        "train_df = pd.read_csv(\"/content/drive/MyDrive/cat-in-the-dat/train.csv\", dtype=dtypes)\n",
        "test_df = pd.read_csv(\"/content/drive/MyDrive/cat-in-the-dat/test.csv\", dtype=dtypes)"
      ],
      "metadata": {
        "id": "Ui5v-0An-Dok",
        "execution": {
          "iopub.status.busy": "2022-05-06T12:31:32.393383Z",
          "iopub.execute_input": "2022-05-06T12:31:32.393855Z",
          "iopub.status.idle": "2022-05-06T12:31:33.793996Z",
          "shell.execute_reply.started": "2022-05-06T12:31:32.393818Z",
          "shell.execute_reply": "2022-05-06T12:31:33.793127Z"
        },
        "trusted": true
      },
      "execution_count": null,
      "outputs": []
    },
    {
      "cell_type": "code",
      "source": [
        "train_df.head()"
      ],
      "metadata": {
        "colab": {
          "base_uri": "https://localhost:8080/",
          "height": 334
        },
        "id": "P9gWrCTQBFvA",
        "outputId": "2e801d66-c20d-4dd8-9b22-98984ff867a5"
      },
      "execution_count": null,
      "outputs": [
        {
          "output_type": "execute_result",
          "data": {
            "text/plain": [
              "    id  bin_0  bin_1  bin_2 bin_3 bin_4  nom_0      nom_1    nom_2    nom_3  \\\n",
              "0  0.0    0.0    0.0    0.0     T     Y  Green   Triangle    Snake  Finland   \n",
              "1  1.0    0.0    1.0    0.0     T     Y  Green  Trapezoid  Hamster   Russia   \n",
              "2  2.0    0.0    0.0    0.0     F     Y   Blue  Trapezoid     Lion   Russia   \n",
              "3  3.0    0.0    1.0    0.0     F     Y    Red  Trapezoid    Snake   Canada   \n",
              "4  4.0    0.0    0.0    0.0     F     N    Red  Trapezoid     Lion   Canada   \n",
              "\n",
              "   ...      nom_9 ord_0        ord_1        ord_2 ord_3 ord_4  ord_5  day  \\\n",
              "0  ...  2f4cb3d51   2.0  Grandmaster         Cold     h     D     kr  2.0   \n",
              "1  ...  f83c56c21   1.0  Grandmaster          Hot     a     A     bF  7.0   \n",
              "2  ...  ae6800dd0   1.0       Expert     Lava Hot     h     R     Jc  7.0   \n",
              "3  ...  8270f0d71   1.0  Grandmaster  Boiling Hot     i     D     kW  2.0   \n",
              "4  ...  b164b72a7   1.0  Grandmaster     Freezing     a     R     qP  7.0   \n",
              "\n",
              "  month target  \n",
              "0   2.0    0.0  \n",
              "1   8.0    0.0  \n",
              "2   2.0    0.0  \n",
              "3   1.0    1.0  \n",
              "4   8.0    0.0  \n",
              "\n",
              "[5 rows x 25 columns]"
            ],
            "text/html": [
              "\n",
              "  <div id=\"df-5aa09b09-3115-41ff-b112-01f82d6aa337\">\n",
              "    <div class=\"colab-df-container\">\n",
              "      <div>\n",
              "<style scoped>\n",
              "    .dataframe tbody tr th:only-of-type {\n",
              "        vertical-align: middle;\n",
              "    }\n",
              "\n",
              "    .dataframe tbody tr th {\n",
              "        vertical-align: top;\n",
              "    }\n",
              "\n",
              "    .dataframe thead th {\n",
              "        text-align: right;\n",
              "    }\n",
              "</style>\n",
              "<table border=\"1\" class=\"dataframe\">\n",
              "  <thead>\n",
              "    <tr style=\"text-align: right;\">\n",
              "      <th></th>\n",
              "      <th>id</th>\n",
              "      <th>bin_0</th>\n",
              "      <th>bin_1</th>\n",
              "      <th>bin_2</th>\n",
              "      <th>bin_3</th>\n",
              "      <th>bin_4</th>\n",
              "      <th>nom_0</th>\n",
              "      <th>nom_1</th>\n",
              "      <th>nom_2</th>\n",
              "      <th>nom_3</th>\n",
              "      <th>...</th>\n",
              "      <th>nom_9</th>\n",
              "      <th>ord_0</th>\n",
              "      <th>ord_1</th>\n",
              "      <th>ord_2</th>\n",
              "      <th>ord_3</th>\n",
              "      <th>ord_4</th>\n",
              "      <th>ord_5</th>\n",
              "      <th>day</th>\n",
              "      <th>month</th>\n",
              "      <th>target</th>\n",
              "    </tr>\n",
              "  </thead>\n",
              "  <tbody>\n",
              "    <tr>\n",
              "      <th>0</th>\n",
              "      <td>0.0</td>\n",
              "      <td>0.0</td>\n",
              "      <td>0.0</td>\n",
              "      <td>0.0</td>\n",
              "      <td>T</td>\n",
              "      <td>Y</td>\n",
              "      <td>Green</td>\n",
              "      <td>Triangle</td>\n",
              "      <td>Snake</td>\n",
              "      <td>Finland</td>\n",
              "      <td>...</td>\n",
              "      <td>2f4cb3d51</td>\n",
              "      <td>2.0</td>\n",
              "      <td>Grandmaster</td>\n",
              "      <td>Cold</td>\n",
              "      <td>h</td>\n",
              "      <td>D</td>\n",
              "      <td>kr</td>\n",
              "      <td>2.0</td>\n",
              "      <td>2.0</td>\n",
              "      <td>0.0</td>\n",
              "    </tr>\n",
              "    <tr>\n",
              "      <th>1</th>\n",
              "      <td>1.0</td>\n",
              "      <td>0.0</td>\n",
              "      <td>1.0</td>\n",
              "      <td>0.0</td>\n",
              "      <td>T</td>\n",
              "      <td>Y</td>\n",
              "      <td>Green</td>\n",
              "      <td>Trapezoid</td>\n",
              "      <td>Hamster</td>\n",
              "      <td>Russia</td>\n",
              "      <td>...</td>\n",
              "      <td>f83c56c21</td>\n",
              "      <td>1.0</td>\n",
              "      <td>Grandmaster</td>\n",
              "      <td>Hot</td>\n",
              "      <td>a</td>\n",
              "      <td>A</td>\n",
              "      <td>bF</td>\n",
              "      <td>7.0</td>\n",
              "      <td>8.0</td>\n",
              "      <td>0.0</td>\n",
              "    </tr>\n",
              "    <tr>\n",
              "      <th>2</th>\n",
              "      <td>2.0</td>\n",
              "      <td>0.0</td>\n",
              "      <td>0.0</td>\n",
              "      <td>0.0</td>\n",
              "      <td>F</td>\n",
              "      <td>Y</td>\n",
              "      <td>Blue</td>\n",
              "      <td>Trapezoid</td>\n",
              "      <td>Lion</td>\n",
              "      <td>Russia</td>\n",
              "      <td>...</td>\n",
              "      <td>ae6800dd0</td>\n",
              "      <td>1.0</td>\n",
              "      <td>Expert</td>\n",
              "      <td>Lava Hot</td>\n",
              "      <td>h</td>\n",
              "      <td>R</td>\n",
              "      <td>Jc</td>\n",
              "      <td>7.0</td>\n",
              "      <td>2.0</td>\n",
              "      <td>0.0</td>\n",
              "    </tr>\n",
              "    <tr>\n",
              "      <th>3</th>\n",
              "      <td>3.0</td>\n",
              "      <td>0.0</td>\n",
              "      <td>1.0</td>\n",
              "      <td>0.0</td>\n",
              "      <td>F</td>\n",
              "      <td>Y</td>\n",
              "      <td>Red</td>\n",
              "      <td>Trapezoid</td>\n",
              "      <td>Snake</td>\n",
              "      <td>Canada</td>\n",
              "      <td>...</td>\n",
              "      <td>8270f0d71</td>\n",
              "      <td>1.0</td>\n",
              "      <td>Grandmaster</td>\n",
              "      <td>Boiling Hot</td>\n",
              "      <td>i</td>\n",
              "      <td>D</td>\n",
              "      <td>kW</td>\n",
              "      <td>2.0</td>\n",
              "      <td>1.0</td>\n",
              "      <td>1.0</td>\n",
              "    </tr>\n",
              "    <tr>\n",
              "      <th>4</th>\n",
              "      <td>4.0</td>\n",
              "      <td>0.0</td>\n",
              "      <td>0.0</td>\n",
              "      <td>0.0</td>\n",
              "      <td>F</td>\n",
              "      <td>N</td>\n",
              "      <td>Red</td>\n",
              "      <td>Trapezoid</td>\n",
              "      <td>Lion</td>\n",
              "      <td>Canada</td>\n",
              "      <td>...</td>\n",
              "      <td>b164b72a7</td>\n",
              "      <td>1.0</td>\n",
              "      <td>Grandmaster</td>\n",
              "      <td>Freezing</td>\n",
              "      <td>a</td>\n",
              "      <td>R</td>\n",
              "      <td>qP</td>\n",
              "      <td>7.0</td>\n",
              "      <td>8.0</td>\n",
              "      <td>0.0</td>\n",
              "    </tr>\n",
              "  </tbody>\n",
              "</table>\n",
              "<p>5 rows × 25 columns</p>\n",
              "</div>\n",
              "      <button class=\"colab-df-convert\" onclick=\"convertToInteractive('df-5aa09b09-3115-41ff-b112-01f82d6aa337')\"\n",
              "              title=\"Convert this dataframe to an interactive table.\"\n",
              "              style=\"display:none;\">\n",
              "        \n",
              "  <svg xmlns=\"http://www.w3.org/2000/svg\" height=\"24px\"viewBox=\"0 0 24 24\"\n",
              "       width=\"24px\">\n",
              "    <path d=\"M0 0h24v24H0V0z\" fill=\"none\"/>\n",
              "    <path d=\"M18.56 5.44l.94 2.06.94-2.06 2.06-.94-2.06-.94-.94-2.06-.94 2.06-2.06.94zm-11 1L8.5 8.5l.94-2.06 2.06-.94-2.06-.94L8.5 2.5l-.94 2.06-2.06.94zm10 10l.94 2.06.94-2.06 2.06-.94-2.06-.94-.94-2.06-.94 2.06-2.06.94z\"/><path d=\"M17.41 7.96l-1.37-1.37c-.4-.4-.92-.59-1.43-.59-.52 0-1.04.2-1.43.59L10.3 9.45l-7.72 7.72c-.78.78-.78 2.05 0 2.83L4 21.41c.39.39.9.59 1.41.59.51 0 1.02-.2 1.41-.59l7.78-7.78 2.81-2.81c.8-.78.8-2.07 0-2.86zM5.41 20L4 18.59l7.72-7.72 1.47 1.35L5.41 20z\"/>\n",
              "  </svg>\n",
              "      </button>\n",
              "      \n",
              "  <style>\n",
              "    .colab-df-container {\n",
              "      display:flex;\n",
              "      flex-wrap:wrap;\n",
              "      gap: 12px;\n",
              "    }\n",
              "\n",
              "    .colab-df-convert {\n",
              "      background-color: #E8F0FE;\n",
              "      border: none;\n",
              "      border-radius: 50%;\n",
              "      cursor: pointer;\n",
              "      display: none;\n",
              "      fill: #1967D2;\n",
              "      height: 32px;\n",
              "      padding: 0 0 0 0;\n",
              "      width: 32px;\n",
              "    }\n",
              "\n",
              "    .colab-df-convert:hover {\n",
              "      background-color: #E2EBFA;\n",
              "      box-shadow: 0px 1px 2px rgba(60, 64, 67, 0.3), 0px 1px 3px 1px rgba(60, 64, 67, 0.15);\n",
              "      fill: #174EA6;\n",
              "    }\n",
              "\n",
              "    [theme=dark] .colab-df-convert {\n",
              "      background-color: #3B4455;\n",
              "      fill: #D2E3FC;\n",
              "    }\n",
              "\n",
              "    [theme=dark] .colab-df-convert:hover {\n",
              "      background-color: #434B5C;\n",
              "      box-shadow: 0px 1px 3px 1px rgba(0, 0, 0, 0.15);\n",
              "      filter: drop-shadow(0px 1px 2px rgba(0, 0, 0, 0.3));\n",
              "      fill: #FFFFFF;\n",
              "    }\n",
              "  </style>\n",
              "\n",
              "      <script>\n",
              "        const buttonEl =\n",
              "          document.querySelector('#df-5aa09b09-3115-41ff-b112-01f82d6aa337 button.colab-df-convert');\n",
              "        buttonEl.style.display =\n",
              "          google.colab.kernel.accessAllowed ? 'block' : 'none';\n",
              "\n",
              "        async function convertToInteractive(key) {\n",
              "          const element = document.querySelector('#df-5aa09b09-3115-41ff-b112-01f82d6aa337');\n",
              "          const dataTable =\n",
              "            await google.colab.kernel.invokeFunction('convertToInteractive',\n",
              "                                                     [key], {});\n",
              "          if (!dataTable) return;\n",
              "\n",
              "          const docLinkHtml = 'Like what you see? Visit the ' +\n",
              "            '<a target=\"_blank\" href=https://colab.research.google.com/notebooks/data_table.ipynb>data table notebook</a>'\n",
              "            + ' to learn more about interactive tables.';\n",
              "          element.innerHTML = '';\n",
              "          dataTable['output_type'] = 'display_data';\n",
              "          await google.colab.output.renderOutput(dataTable, element);\n",
              "          const docLink = document.createElement('div');\n",
              "          docLink.innerHTML = docLinkHtml;\n",
              "          element.appendChild(docLink);\n",
              "        }\n",
              "      </script>\n",
              "    </div>\n",
              "  </div>\n",
              "  "
            ]
          },
          "metadata": {},
          "execution_count": 71
        }
      ]
    },
    {
      "cell_type": "code",
      "source": [
        "train_df = train_df.drop(['id', 'ord_0', \"nom_8\", \"nom_9\"], axis=1)\n",
        "test_df = test_df.drop(['id', 'ord_0', \"nom_8\", \"nom_9\"], axis=1)"
      ],
      "metadata": {
        "id": "FMMAuCytFjMh"
      },
      "execution_count": null,
      "outputs": []
    },
    {
      "cell_type": "code",
      "source": [
        "from sklearn.model_selection import train_test_split\n",
        "x_train, x_val, y_train, y_val = train_test_split(train_df, train_df[\"target\"], test_size=0.25, random_state=42)"
      ],
      "metadata": {
        "id": "2LAGsh-vTC-M"
      },
      "execution_count": null,
      "outputs": []
    },
    {
      "cell_type": "code",
      "source": [
        "def df_to_dataset(dataframe=x_train, shuffle=True, batch_size=256, test=False):\n",
        "    df = dataframe.copy()\n",
        "    \n",
        "    if not test:\n",
        "        labels = df.pop('target')\n",
        "    \n",
        "    df = {\n",
        "        key: value[:,tf.newaxis] \n",
        "        for key, value in dataframe.items()\n",
        "    }\n",
        "    \n",
        "    if not test:\n",
        "        ds = tf.data.Dataset.from_tensor_slices((dict(df), labels))\n",
        "    else:\n",
        "        ds = tf.data.Dataset.from_tensor_slices((dict(df)))\n",
        "\n",
        "    if shuffle:\n",
        "        ds = ds.shuffle(buffer_size=len(dataframe))\n",
        "    \n",
        "    ds = ds.batch(batch_size)\n",
        "    ds = ds.prefetch(batch_size)\n",
        "    \n",
        "    return ds"
      ],
      "metadata": {
        "id": "EIv-_TWqxyLT"
      },
      "execution_count": null,
      "outputs": []
    },
    {
      "cell_type": "code",
      "source": [
        "train_dataset = df_to_dataset(x_train)\n",
        "val_dataset = df_to_dataset(x_val, shuffle=False)\n",
        "final_test_ds = df_to_dataset(test_df, shuffle=False ,test=True)"
      ],
      "metadata": {
        "id": "8DRuX25Tx0BL",
        "colab": {
          "base_uri": "https://localhost:8080/"
        },
        "outputId": "3b6ed641-30ec-4a2c-941d-e78a3066d840"
      },
      "execution_count": null,
      "outputs": [
        {
          "output_type": "stream",
          "name": "stderr",
          "text": [
            "/usr/local/lib/python3.7/dist-packages/ipykernel_launcher.py:9: FutureWarning: Support for multi-dimensional indexing (e.g. `obj[:, None]`) is deprecated and will be removed in a future version.  Convert to a numpy array before indexing instead.\n",
            "  if __name__ == '__main__':\n"
          ]
        }
      ]
    },
    {
      "cell_type": "markdown",
      "source": [
        "# Deep Learning\n"
      ],
      "metadata": {
        "id": "1IDEOZ86UKGG"
      }
    },
    {
      "cell_type": "code",
      "source": [
        "class FeatureEngineering:\n",
        "\n",
        "\tdef __init__(\n",
        "\t\t  self, \n",
        "\t\t  dataframe, \n",
        "\t\t  target=None\n",
        "\t\t):\n",
        "\t\tself.dataframe = dataframe\n",
        "\n",
        "\tdef select_columns(self):\n",
        "\n",
        "\t\tself.num_features = self.dataframe.select_dtypes(include=['float32']).columns\n",
        "\t\tself.cat_features = self.dataframe.select_dtypes(include=['object']).columns\n",
        "\t\tself.all_features = self.num_features.to_list() + self.cat_features.to_list()\n",
        "\n",
        "\t\tself.bin_cols = self.cat_features[self.cat_features.str.contains(\"bin_3|bin_4\")].to_list()\n",
        "\t\tself.ord_cols = self.cat_features[self.cat_features.str.contains(\"ord\")].to_list()\n",
        "\t\tself.nom_cols = self.cat_features[self.cat_features.str.contains(\"nom\")].to_list()\n",
        "  \n",
        "\t\treturn self.all_features\n",
        "\n",
        "\tdef create_input_layer(self):\n",
        "\n",
        "\t\tself.inputs = {\n",
        "\t\t\tfeature: keras.layers.Input(\n",
        "\t\t\t\t  name=feature,\n",
        "\t\t\t\t  shape=(), \n",
        "\t\t\t\t  dtype=tf.float32 if feature in self.num_features else tf.string\n",
        "\t\t\t)\n",
        "\t\t\tfor feature in self.all_features\n",
        "\t\t}\n",
        "\n",
        "\t\treturn self.inputs\n",
        "\n",
        "\tdef encode_features(self):\n",
        "\t\t\n",
        "\t\tself.encoded_features = []\n",
        "\n",
        "\t\tfor feature in self.cat_features:\n",
        "\n",
        "\t\t\tif feature in self.ord_cols:\n",
        "\t\t\t\tvocabulary = list(string.ascii_lowercase) + list(string.ascii_uppercase)\n",
        "\t\t\t\tlookup = StringLookup(\n",
        "\t\t\t\t\tvocabulary=vocabulary,\n",
        "\t\t\t\t\toutput_mode=\"one_hot\",\n",
        "\t\t\t\t)\n",
        "\t\t\telse:\n",
        "\t\t\t\tvocabulary  = list(self.dataframe[feature].unique())\n",
        "\t\t\t\tlookup = StringLookup(\n",
        "\t\t\t\t\tvocabulary=vocabulary,\n",
        "\t\t\t\t\toutput_mode=\"count\",\n",
        "\t\t\t\t)\n",
        "\n",
        "\t\t\tencoded_feature = lookup(tf.expand_dims(self.inputs[feature], -1))\n",
        "\t\t\tself.encoded_features.append(encoded_feature)\n",
        "\n",
        "\t\tfor feature in self.num_features:\n",
        "\n",
        "\t\t\tencoded_feature = tf.expand_dims(self.inputs[feature], -1)\n",
        "\t\t\tself.encoded_features.append(encoded_feature)\n",
        "\n",
        "\t\tself.all_features_encoded = keras.layers.concatenate(self.encoded_features)\n",
        "\t\treturn self.all_features_encoded"
      ],
      "metadata": {
        "id": "gb-ChqhoM5S-"
      },
      "execution_count": null,
      "outputs": []
    },
    {
      "cell_type": "code",
      "source": [
        "train_df = train_df.drop([\"target\"], axis=1)"
      ],
      "metadata": {
        "id": "9LH1WdolYZsw"
      },
      "execution_count": null,
      "outputs": []
    },
    {
      "cell_type": "code",
      "source": [
        "fe = FeatureEngineering(train_df, target=\"target\")\n",
        "features_columns = fe.select_columns()\n",
        "input_layer = fe.create_input_layer()\n",
        "all_features_encoded = fe.encode_features()"
      ],
      "metadata": {
        "id": "yv4onSjP0Fvr"
      },
      "execution_count": null,
      "outputs": []
    },
    {
      "cell_type": "code",
      "source": [
        "class DeepCrossModel:\n",
        "\n",
        "\tdef __init__(\n",
        "\t\tself,\n",
        "\t\tinputs,\n",
        "\t\tall_features_encoded, \n",
        "\t\thidden_units,\n",
        "\t\tdropout_rate,\n",
        "\t\tlearning_rate,\n",
        "\t\toptimizer,\n",
        "\t\tmetrics,\n",
        "\t\tloss,\n",
        "\t\t**fit_params: dict,\n",
        "\t):\n",
        "\t\tself.inputs = inputs\n",
        "\t\tself.all_features_encoded = all_features_encoded\n",
        "\t\tself.hidden_units = hidden_units\n",
        "\t\tself.inputs = inputs\n",
        "\t\tself.dropout_rate = dropout_rate\n",
        "\t\tself.learning_rate = learning_rate\n",
        "\t\tself.optimizer = optimizer\n",
        "\t\tself.metrics = metrics\n",
        "\t\tself.loss = loss\n",
        "\t\tself.fit_params = fit_params\n",
        "\n",
        "\tdef create_wide_network(self):\n",
        "\t\tself.wide = self.all_features_encoded\n",
        "\t\n",
        "\tdef create_cross_network(self):\n",
        "\n",
        "\t\tself.cross = self.all_features_encoded\n",
        "\t\tfor _ in self.hidden_units:\n",
        "\t\t\tself.neurons = self.cross.shape[-1]\n",
        "\t\t\tx = keras.layers.Dense(self.neurons, activation=\"relu\", kernel_initializer='uniform')(self.cross)\n",
        "\t\t\tself.cross = keras.layers.Dropout(self.dropout_rate)(self.cross)\n",
        "\t\t\tself.cross = self.all_features_encoded * x + self.cross\n",
        "   \n",
        "\tdef create_deep_network(self):\n",
        "\t\t\n",
        "\t\t self.deep = self.wide\n",
        "\t\t for units in self.hidden_units:\n",
        "\t\t\t\tself.deep = keras.layers.Dense(\n",
        "\t\t\t\t\t\tunits, \n",
        "\t\t\t\t\t\tactivation=\"relu\",\n",
        "\t\t\t\t\t\tkernel_initializer='uniform', \n",
        "\t\t\t\t\t\t)(self.deep)\n",
        "\t\t\t\tself.deep = keras.layers.Dense(\n",
        "\t\t\t\t\t\tunits,\n",
        "\t\t\t\t\t  \tactivation=\"relu\",\n",
        "\t\t\t\t\t\tkernel_initializer='uniform', \n",
        "\t\t\t\t)(self.deep)\n",
        "\t\t\t\tself.deep = keras.layers.Dropout(self.dropout_rate)(self.deep)\n",
        "\t\t\t\tself.deep = keras.layers.BatchNormalization()(self.deep)\n",
        "\n",
        "\tdef merge_networks(self):\n",
        "\n",
        "\t\tself.merged = keras.layers.concatenate([self.wide, self.deep], name=\"merged_layer\")\n",
        "\n",
        "\tdef create_output_layer(self):\n",
        "\t\tself.bn = keras.layers.BatchNormalization()(self.merged)\n",
        "\t\tself.outputs = keras.layers.Dense(1, activation=\"sigmoid\")(self.bn)\n",
        "\n",
        "\tdef create_model(self):\n",
        "\t\t\n",
        "\t\tself.model = keras.Model(inputs=self.inputs, outputs=self.outputs)\n",
        "\n",
        "\tdef compile_model(self):\n",
        "\n",
        "\t\tself.model.compile(\n",
        "\t\t\toptimizer=self.optimizer,\n",
        "\t\t\tloss=self.loss,\n",
        "\t\t\tmetrics=self.metrics,\n",
        "\t\t)\n",
        "\n",
        "\tdef plot_model(self):\n",
        "\t\tkeras.utils.plot_model(self.model, show_shapes=True, rankdir=\"LR\")\n",
        "\t\n",
        "\tdef run(self, *args, **kwargs):\n",
        "\t\tself.create_wide_network()\n",
        "\t\t#self.create_cross_network()\n",
        "\t\tself.create_deep_network()\n",
        "\t\tself.merge_networks()\n",
        "\t\tself.create_output_layer()\n",
        "\t\tself.create_model()\n",
        "\t\tself.compile_model()\n",
        "\t\tself.plot_model()\n",
        "\n",
        "\tdef fit(self):\n",
        "\t\t\n",
        "\t\tself.history = self.model.fit(\n",
        "\t\t\t**self.fit_params,\n",
        "\t\t)\n",
        "  \n",
        "\t\treturn self.history\n",
        "\t\n",
        "\tdef predict(self, x_test):\n",
        "\n",
        "\t\tself.predictions = self.model.predict(x_test)\n",
        "  \n",
        "\t\treturn self.predictions\n",
        "\n",
        "\n",
        "\tdef fit_predict(self, x_test):\n",
        "\t\t\n",
        "\t\tself.fit()\n",
        "\t\tself.predict(x_test)\n",
        "\n",
        "\t\treturn self.history, self.predictions"
      ],
      "metadata": {
        "id": "8RUTBw2_QCCi"
      },
      "execution_count": null,
      "outputs": []
    },
    {
      "cell_type": "code",
      "source": [
        "learning_rate = 1e-4\n",
        "decay_rate = learning_rate / 180\n",
        "momentum = 0.9\n",
        "sgd = keras.optimizers.SGD(lr=learning_rate, momentum=momentum, decay=decay_rate, nesterov=False)\n",
        "adam = keras.optimizers.Adam(learning_rate=1e-4)"
      ],
      "metadata": {
        "id": "AZzPEMhOvgbk",
        "colab": {
          "base_uri": "https://localhost:8080/"
        },
        "outputId": "349c57df-d680-495c-bf94-1a1cb975d74f"
      },
      "execution_count": null,
      "outputs": [
        {
          "output_type": "stream",
          "name": "stderr",
          "text": [
            "/usr/local/lib/python3.7/dist-packages/keras/optimizer_v2/gradient_descent.py:102: UserWarning: The `lr` argument is deprecated, use `learning_rate` instead.\n",
            "  super(SGD, self).__init__(name, **kwargs)\n"
          ]
        }
      ]
    },
    {
      "cell_type": "code",
      "source": [
        "tf.keras.backend.clear_session()\n",
        "\n",
        "fit_params = dict(\n",
        "    x=train_dataset,\n",
        "    validation_data=val_dataset,\n",
        "    epochs=50,\n",
        "    callbacks=tf.keras.callbacks.EarlyStopping(patience=8, monitor=\"val_auc\"),\n",
        ")\n",
        "\n",
        "dcm = DeepCrossModel(\n",
        "    inputs=input_layer,\n",
        "    all_features_encoded=all_features_encoded,\n",
        "    hidden_units=[32,16,8],\n",
        "    dropout_rate=0.15,\n",
        "    learning_rate=1e-5,\n",
        "    optimizer=adam, \n",
        "    loss='binary_crossentropy',\n",
        "    metrics=[tf.keras.metrics.AUC()],\n",
        "    **fit_params,\n",
        ")"
      ],
      "metadata": {
        "id": "7snoFaLT0_xg"
      },
      "execution_count": null,
      "outputs": []
    },
    {
      "cell_type": "code",
      "source": [
        "dcm.run()"
      ],
      "metadata": {
        "id": "pdrUPtFg25Lz"
      },
      "execution_count": null,
      "outputs": []
    },
    {
      "cell_type": "code",
      "source": [
        "history = dcm.fit()"
      ],
      "metadata": {
        "id": "EOKbp3ln3Iwm",
        "colab": {
          "base_uri": "https://localhost:8080/"
        },
        "outputId": "b5aad864-29ab-4787-955a-c3641d3302d6"
      },
      "execution_count": null,
      "outputs": [
        {
          "output_type": "stream",
          "name": "stdout",
          "text": [
            "Epoch 1/50\n"
          ]
        },
        {
          "output_type": "stream",
          "name": "stderr",
          "text": [
            "/usr/local/lib/python3.7/dist-packages/keras/engine/functional.py:559: UserWarning: Input dict contained keys ['target'] which did not match any model input. They will be ignored by the model.\n",
            "  inputs = self._flatten_to_reference_inputs(inputs)\n"
          ]
        },
        {
          "output_type": "stream",
          "name": "stdout",
          "text": [
            "879/879 [==============================] - 31s 30ms/step - loss: 0.6090 - auc: 0.6159 - val_loss: 0.5838 - val_auc: 0.6687\n",
            "Epoch 2/50\n",
            "879/879 [==============================] - 25s 26ms/step - loss: 0.5572 - auc: 0.7077 - val_loss: 0.5650 - val_auc: 0.7012\n",
            "Epoch 3/50\n",
            "879/879 [==============================] - 28s 29ms/step - loss: 0.5484 - auc: 0.7219 - val_loss: 0.5577 - val_auc: 0.7098\n",
            "Epoch 4/50\n",
            "879/879 [==============================] - 25s 27ms/step - loss: 0.5447 - auc: 0.7272 - val_loss: 0.5556 - val_auc: 0.7153\n",
            "Epoch 5/50\n",
            "879/879 [==============================] - 25s 27ms/step - loss: 0.5421 - auc: 0.7313 - val_loss: 0.5555 - val_auc: 0.7123\n",
            "Epoch 6/50\n",
            "879/879 [==============================] - 26s 27ms/step - loss: 0.5397 - auc: 0.7349 - val_loss: 0.5543 - val_auc: 0.7165\n",
            "Epoch 7/50\n",
            "879/879 [==============================] - 26s 27ms/step - loss: 0.5370 - auc: 0.7384 - val_loss: 0.5560 - val_auc: 0.7137\n",
            "Epoch 8/50\n",
            "879/879 [==============================] - 28s 29ms/step - loss: 0.5346 - auc: 0.7421 - val_loss: 0.5554 - val_auc: 0.7141\n",
            "Epoch 9/50\n",
            "879/879 [==============================] - 28s 29ms/step - loss: 0.5320 - auc: 0.7458 - val_loss: 0.5561 - val_auc: 0.7142\n",
            "Epoch 10/50\n",
            "879/879 [==============================] - 27s 29ms/step - loss: 0.5289 - auc: 0.7501 - val_loss: 0.5595 - val_auc: 0.7137\n",
            "Epoch 11/50\n",
            "879/879 [==============================] - 25s 27ms/step - loss: 0.5253 - auc: 0.7548 - val_loss: 0.5609 - val_auc: 0.7109\n",
            "Epoch 12/50\n",
            "879/879 [==============================] - 26s 28ms/step - loss: 0.5225 - auc: 0.7587 - val_loss: 0.5625 - val_auc: 0.7101\n",
            "Epoch 13/50\n",
            "879/879 [==============================] - 26s 28ms/step - loss: 0.5188 - auc: 0.7636 - val_loss: 0.5653 - val_auc: 0.7076\n",
            "Epoch 14/50\n",
            "879/879 [==============================] - 25s 26ms/step - loss: 0.5154 - auc: 0.7680 - val_loss: 0.5687 - val_auc: 0.7052\n"
          ]
        }
      ]
    },
    {
      "cell_type": "code",
      "source": [
        "preds = dcm.predict(final_test_ds)"
      ],
      "metadata": {
        "id": "bAVGuKEHPdjm"
      },
      "execution_count": null,
      "outputs": []
    },
    {
      "cell_type": "code",
      "source": [
        ""
      ],
      "metadata": {
        "id": "DD_YJ7mhSVaR"
      },
      "execution_count": null,
      "outputs": []
    }
  ]
}